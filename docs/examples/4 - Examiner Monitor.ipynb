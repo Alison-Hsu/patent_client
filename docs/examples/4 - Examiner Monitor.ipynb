{
 "cells": [
  {
   "cell_type": "markdown",
   "metadata": {},
   "source": [
    "# Examiner Monitor\n",
    "\n",
    "This notebook shows how patent_client can be used to examine what is on a particular examiner's docket, and some simple statistics for a particular examiner.\n",
    "\n",
    "The input to this will just be an application that we know the examiner is handling - like for example a case we just got an Office Action from."
   ]
  },
  {
   "cell_type": "code",
   "execution_count": 1,
   "metadata": {},
   "outputs": [],
   "source": [
    "app_no = '16538065'"
   ]
  },
  {
   "cell_type": "markdown",
   "metadata": {},
   "source": [
    "Next, we'll do our standard imports, query the USApplication object for that application, and retreive the examiner's name"
   ]
  },
  {
   "cell_type": "code",
   "execution_count": 2,
   "metadata": {},
   "outputs": [
    {
     "name": "stdout",
     "output_type": "stream",
     "text": [
      "The examiner for 16538065 is TRAN, ANHTAI V of art unit 2168\n"
     ]
    }
   ],
   "source": [
    "import pandas as pd\n",
    "import numpy as np\n",
    "from patent_client import USApplication\n",
    "\n",
    "app = USApplication.objects.get(app_no)\n",
    "print(f'The examiner for {app.appl_id} is {app.app_exam_name} of art unit {app.app_grp_art_number}')"
   ]
  },
  {
   "cell_type": "markdown",
   "metadata": {},
   "source": [
    "Then, we'll go and retreive all the cases that this examiner has ever handled by searching USApplication for all applications listing the same examiner, and then populate a subset of that data into a Pandas DataFrame.\n",
    "\n",
    "*NOTE:* Because the USApplication object is lazy, this might take a minute - patent_client is now retrieving the application data"
   ]
  },
  {
   "cell_type": "code",
   "execution_count": 3,
   "metadata": {},
   "outputs": [
    {
     "data": {
      "text/html": [
       "<div>\n",
       "<style scoped>\n",
       "    .dataframe tbody tr th:only-of-type {\n",
       "        vertical-align: middle;\n",
       "    }\n",
       "\n",
       "    .dataframe tbody tr th {\n",
       "        vertical-align: top;\n",
       "    }\n",
       "\n",
       "    .dataframe thead th {\n",
       "        text-align: right;\n",
       "    }\n",
       "</style>\n",
       "<table border=\"1\" class=\"dataframe\">\n",
       "  <thead>\n",
       "    <tr style=\"text-align: right;\">\n",
       "      <th></th>\n",
       "      <th>appl_id</th>\n",
       "      <th>app_filing_date</th>\n",
       "      <th>patent_title</th>\n",
       "      <th>patent_number</th>\n",
       "      <th>app_status</th>\n",
       "      <th>app_status_date</th>\n",
       "    </tr>\n",
       "  </thead>\n",
       "  <tbody>\n",
       "    <tr>\n",
       "      <th>0</th>\n",
       "      <td>17077511</td>\n",
       "      <td>2020-10-22</td>\n",
       "      <td>HANDLING OUT-OF-ORDER DATA DURING STREAM PROCE...</td>\n",
       "      <td>None</td>\n",
       "      <td>Publications -- Issue Fee Payment Verified</td>\n",
       "      <td>2022-08-11</td>\n",
       "    </tr>\n",
       "    <tr>\n",
       "      <th>1</th>\n",
       "      <td>16648169</td>\n",
       "      <td>2020-03-17</td>\n",
       "      <td>PARSING REGULAR EXPRESSIONS WITH SPIKING NEURA...</td>\n",
       "      <td>None</td>\n",
       "      <td>Non Final Action Mailed</td>\n",
       "      <td>2022-08-10</td>\n",
       "    </tr>\n",
       "    <tr>\n",
       "      <th>2</th>\n",
       "      <td>16932252</td>\n",
       "      <td>2020-07-17</td>\n",
       "      <td>LOGICAL PARTITIONS VIA HEADER-BASED PARTITION ...</td>\n",
       "      <td>None</td>\n",
       "      <td>Notice of Allowance Mailed -- Application Rece...</td>\n",
       "      <td>2022-08-09</td>\n",
       "    </tr>\n",
       "    <tr>\n",
       "      <th>3</th>\n",
       "      <td>17038351</td>\n",
       "      <td>2020-09-30</td>\n",
       "      <td>SYSTEM AND METHOD FOR BLOOM FILTERS IN LARGE S...</td>\n",
       "      <td>None</td>\n",
       "      <td>Notice of Allowance Mailed -- Application Rece...</td>\n",
       "      <td>2022-08-08</td>\n",
       "    </tr>\n",
       "    <tr>\n",
       "      <th>4</th>\n",
       "      <td>16538065</td>\n",
       "      <td>2019-08-12</td>\n",
       "      <td>SYSTEMS AND METHODS FOR ANALYZING THE VALIDITY...</td>\n",
       "      <td>None</td>\n",
       "      <td>Advisory Action Mailed</td>\n",
       "      <td>2022-08-08</td>\n",
       "    </tr>\n",
       "  </tbody>\n",
       "</table>\n",
       "</div>"
      ],
      "text/plain": [
       "    appl_id app_filing_date  \\\n",
       "0  17077511      2020-10-22   \n",
       "1  16648169      2020-03-17   \n",
       "2  16932252      2020-07-17   \n",
       "3  17038351      2020-09-30   \n",
       "4  16538065      2019-08-12   \n",
       "\n",
       "                                        patent_title patent_number  \\\n",
       "0  HANDLING OUT-OF-ORDER DATA DURING STREAM PROCE...          None   \n",
       "1  PARSING REGULAR EXPRESSIONS WITH SPIKING NEURA...          None   \n",
       "2  LOGICAL PARTITIONS VIA HEADER-BASED PARTITION ...          None   \n",
       "3  SYSTEM AND METHOD FOR BLOOM FILTERS IN LARGE S...          None   \n",
       "4  SYSTEMS AND METHODS FOR ANALYZING THE VALIDITY...          None   \n",
       "\n",
       "                                          app_status app_status_date  \n",
       "0         Publications -- Issue Fee Payment Verified      2022-08-11  \n",
       "1                            Non Final Action Mailed      2022-08-10  \n",
       "2  Notice of Allowance Mailed -- Application Rece...      2022-08-09  \n",
       "3  Notice of Allowance Mailed -- Application Rece...      2022-08-08  \n",
       "4                             Advisory Action Mailed      2022-08-08  "
      ]
     },
     "execution_count": 3,
     "metadata": {},
     "output_type": "execute_result"
    }
   ],
   "source": [
    "exam = USApplication.objects.filter(app_exam_name=app.app_exam_name)\n",
    "exam_df = (exam.values('appl_id', 'app_filing_date', 'patent_title', 'patent_number', 'app_status', 'app_status_date')\n",
    "    .to_pandas()\n",
    ")\n",
    "exam_df.head()"
   ]
  },
  {
   "cell_type": "markdown",
   "metadata": {},
   "source": [
    "## Simple Lookups\n",
    "\n",
    "Now that we have all the Examiner's cases, we want to take a peek at what the Examiner is working on. To do that, we'll make a list of application status names that we're interested in - those that indicate that the Examiner is still working on the case and the case isn't abandoned, allowed, or awaiting a first office action"
   ]
  },
  {
   "cell_type": "code",
   "execution_count": 4,
   "metadata": {},
   "outputs": [
    {
     "data": {
      "text/html": [
       "<div>\n",
       "<style scoped>\n",
       "    .dataframe tbody tr th:only-of-type {\n",
       "        vertical-align: middle;\n",
       "    }\n",
       "\n",
       "    .dataframe tbody tr th {\n",
       "        vertical-align: top;\n",
       "    }\n",
       "\n",
       "    .dataframe thead th {\n",
       "        text-align: right;\n",
       "    }\n",
       "</style>\n",
       "<table border=\"1\" class=\"dataframe\">\n",
       "  <thead>\n",
       "    <tr style=\"text-align: right;\">\n",
       "      <th></th>\n",
       "      <th>appl_id</th>\n",
       "      <th>app_filing_date</th>\n",
       "      <th>patent_title</th>\n",
       "      <th>patent_number</th>\n",
       "      <th>app_status</th>\n",
       "      <th>app_status_date</th>\n",
       "    </tr>\n",
       "  </thead>\n",
       "  <tbody>\n",
       "    <tr>\n",
       "      <th>1</th>\n",
       "      <td>16648169</td>\n",
       "      <td>2020-03-17</td>\n",
       "      <td>PARSING REGULAR EXPRESSIONS WITH SPIKING NEURA...</td>\n",
       "      <td>None</td>\n",
       "      <td>Non Final Action Mailed</td>\n",
       "      <td>2022-08-10</td>\n",
       "    </tr>\n",
       "    <tr>\n",
       "      <th>4</th>\n",
       "      <td>16538065</td>\n",
       "      <td>2019-08-12</td>\n",
       "      <td>SYSTEMS AND METHODS FOR ANALYZING THE VALIDITY...</td>\n",
       "      <td>None</td>\n",
       "      <td>Advisory Action Mailed</td>\n",
       "      <td>2022-08-08</td>\n",
       "    </tr>\n",
       "    <tr>\n",
       "      <th>5</th>\n",
       "      <td>16985917</td>\n",
       "      <td>2020-08-05</td>\n",
       "      <td>SYSTEM FOR AUTOMATED MATERIAL MASTER DATA HARM...</td>\n",
       "      <td>None</td>\n",
       "      <td>Response to Non-Final Office Action Entered an...</td>\n",
       "      <td>2022-08-05</td>\n",
       "    </tr>\n",
       "    <tr>\n",
       "      <th>6</th>\n",
       "      <td>16796106</td>\n",
       "      <td>2020-02-20</td>\n",
       "      <td>SYSTEMS AND METHODS FOR PREDICTING WHERE CONVE...</td>\n",
       "      <td>None</td>\n",
       "      <td>Final Rejection Mailed</td>\n",
       "      <td>2022-08-04</td>\n",
       "    </tr>\n",
       "    <tr>\n",
       "      <th>7</th>\n",
       "      <td>17158895</td>\n",
       "      <td>2021-01-26</td>\n",
       "      <td>DECLARATIVE SEGMENT ATTRIBUTE ACTIVATION</td>\n",
       "      <td>None</td>\n",
       "      <td>Final Rejection Mailed</td>\n",
       "      <td>2022-08-04</td>\n",
       "    </tr>\n",
       "  </tbody>\n",
       "</table>\n",
       "</div>"
      ],
      "text/plain": [
       "    appl_id app_filing_date  \\\n",
       "1  16648169      2020-03-17   \n",
       "4  16538065      2019-08-12   \n",
       "5  16985917      2020-08-05   \n",
       "6  16796106      2020-02-20   \n",
       "7  17158895      2021-01-26   \n",
       "\n",
       "                                        patent_title patent_number  \\\n",
       "1  PARSING REGULAR EXPRESSIONS WITH SPIKING NEURA...          None   \n",
       "4  SYSTEMS AND METHODS FOR ANALYZING THE VALIDITY...          None   \n",
       "5  SYSTEM FOR AUTOMATED MATERIAL MASTER DATA HARM...          None   \n",
       "6  SYSTEMS AND METHODS FOR PREDICTING WHERE CONVE...          None   \n",
       "7           DECLARATIVE SEGMENT ATTRIBUTE ACTIVATION          None   \n",
       "\n",
       "                                          app_status app_status_date  \n",
       "1                            Non Final Action Mailed      2022-08-10  \n",
       "4                             Advisory Action Mailed      2022-08-08  \n",
       "5  Response to Non-Final Office Action Entered an...      2022-08-05  \n",
       "6                             Final Rejection Mailed      2022-08-04  \n",
       "7                             Final Rejection Mailed      2022-08-04  "
      ]
     },
     "execution_count": 4,
     "metadata": {},
     "output_type": "execute_result"
    }
   ],
   "source": [
    "active_pros_statuses = [\n",
    "    'Advisory Action Mailed',\n",
    "    'Board of Appeals Decision Rendered',\n",
    "    'Non Final Action Mailed',\n",
    "    'Response after Final Action Forwarded to Examiner',\n",
    "    'Response to Non-Final Office Action Entered and Forwarded to Examiner',\n",
    "    'Final Rejection Mailed',\n",
    "]\n",
    "\n",
    "active_df = exam_df[exam_df['app_status'].isin(active_pros_statuses)]\n",
    "active_df.head()"
   ]
  },
  {
   "cell_type": "markdown",
   "metadata": {},
   "source": [
    "Maybe we're trying to predict when an Examiner might get to a particular case. To do that, we can use a Pandas filter to select all the cases that have the status \"Docketed New Case - Ready for Examination\""
   ]
  },
  {
   "cell_type": "code",
   "execution_count": 5,
   "metadata": {},
   "outputs": [
    {
     "data": {
      "text/html": [
       "<div>\n",
       "<style scoped>\n",
       "    .dataframe tbody tr th:only-of-type {\n",
       "        vertical-align: middle;\n",
       "    }\n",
       "\n",
       "    .dataframe tbody tr th {\n",
       "        vertical-align: top;\n",
       "    }\n",
       "\n",
       "    .dataframe thead th {\n",
       "        text-align: right;\n",
       "    }\n",
       "</style>\n",
       "<table border=\"1\" class=\"dataframe\">\n",
       "  <thead>\n",
       "    <tr style=\"text-align: right;\">\n",
       "      <th></th>\n",
       "      <th>appl_id</th>\n",
       "      <th>app_filing_date</th>\n",
       "      <th>patent_title</th>\n",
       "      <th>patent_number</th>\n",
       "      <th>app_status</th>\n",
       "      <th>app_status_date</th>\n",
       "    </tr>\n",
       "  </thead>\n",
       "  <tbody>\n",
       "    <tr>\n",
       "      <th>132</th>\n",
       "      <td>17362419</td>\n",
       "      <td>2021-06-29</td>\n",
       "      <td>METHODS AND APPARATUS TO ESTIMATE CARDINALITY ...</td>\n",
       "      <td>None</td>\n",
       "      <td>Docketed New Case - Ready for Examination</td>\n",
       "      <td>2021-08-24</td>\n",
       "    </tr>\n",
       "  </tbody>\n",
       "</table>\n",
       "</div>"
      ],
      "text/plain": [
       "      appl_id app_filing_date  \\\n",
       "132  17362419      2021-06-29   \n",
       "\n",
       "                                          patent_title patent_number  \\\n",
       "132  METHODS AND APPARATUS TO ESTIMATE CARDINALITY ...          None   \n",
       "\n",
       "                                    app_status app_status_date  \n",
       "132  Docketed New Case - Ready for Examination      2021-08-24  "
      ]
     },
     "execution_count": 5,
     "metadata": {},
     "output_type": "execute_result"
    }
   ],
   "source": [
    "docket_df = exam_df[exam_df['app_status'] == 'Docketed New Case - Ready for Examination']\n",
    "docket_df.head()"
   ]
  },
  {
   "cell_type": "markdown",
   "metadata": {},
   "source": [
    "Then we can use a simple function to count how many cases are ahead of ours, first by sorting by filing date, then counting how many cases down our application is:"
   ]
  },
  {
   "cell_type": "code",
   "execution_count": 6,
   "metadata": {},
   "outputs": [
    {
     "name": "stdout",
     "output_type": "stream",
     "text": [
      "There are 1 cases ahead of 16538065 on Examiner TRAN, ANHTAI V's Docket\n"
     ]
    }
   ],
   "source": [
    "docket_df = docket_df.sort_values('app_filing_date', ascending=True)\n",
    "\n",
    "counter = 0\n",
    "\n",
    "for i, row in docket_df.iterrows():\n",
    "    if row['appl_id'] == app_no:\n",
    "        break\n",
    "    counter += 1\n",
    "\n",
    "print(f\"There are {counter} cases ahead of {app.appl_id} on Examiner {app.app_exam_name}'s Docket\")"
   ]
  },
  {
   "cell_type": "markdown",
   "metadata": {},
   "source": [
    "## Statistical Analysis\n",
    "\n",
    "Maybe we want some more detailed information. Things like average pendency, overall case load, etc. Let's do some of those statistics now.\n",
    "\n",
    "First, we'll take a look at the examiner's entire docket, bucketed by years, to get a general sense for the Examiner's workflow and case dispositions. To start, we'll add a column that will classify a case as either \"Patented\", \"Abandoned\", or \"Pending\". To do that, we'll use the Pandas \"apply\" function. If the case has a patent number, we'll categorize it as \"Patented.\" This is better than looking at status, because the case might have lapsed for failure to pay maintenace fees. Then we'll look at the status and see if the word \"abandoned\" appears in it. If so, we can be reasonably sure the case has been abandoned. If it doesn't fit in either category, then the case is still pending."
   ]
  },
  {
   "cell_type": "code",
   "execution_count": 7,
   "metadata": {},
   "outputs": [
    {
     "data": {
      "text/html": [
       "<div>\n",
       "<style scoped>\n",
       "    .dataframe tbody tr th:only-of-type {\n",
       "        vertical-align: middle;\n",
       "    }\n",
       "\n",
       "    .dataframe tbody tr th {\n",
       "        vertical-align: top;\n",
       "    }\n",
       "\n",
       "    .dataframe thead th {\n",
       "        text-align: right;\n",
       "    }\n",
       "</style>\n",
       "<table border=\"1\" class=\"dataframe\">\n",
       "  <thead>\n",
       "    <tr style=\"text-align: right;\">\n",
       "      <th></th>\n",
       "      <th>appl_id</th>\n",
       "      <th>app_filing_date</th>\n",
       "      <th>patent_title</th>\n",
       "      <th>patent_number</th>\n",
       "      <th>app_status</th>\n",
       "      <th>app_status_date</th>\n",
       "      <th>year</th>\n",
       "      <th>final</th>\n",
       "    </tr>\n",
       "  </thead>\n",
       "  <tbody>\n",
       "    <tr>\n",
       "      <th>0</th>\n",
       "      <td>17077511</td>\n",
       "      <td>2020-10-22</td>\n",
       "      <td>HANDLING OUT-OF-ORDER DATA DURING STREAM PROCE...</td>\n",
       "      <td>None</td>\n",
       "      <td>Publications -- Issue Fee Payment Verified</td>\n",
       "      <td>2022-08-11</td>\n",
       "      <td>2020</td>\n",
       "      <td>Pending</td>\n",
       "    </tr>\n",
       "    <tr>\n",
       "      <th>1</th>\n",
       "      <td>16648169</td>\n",
       "      <td>2020-03-17</td>\n",
       "      <td>PARSING REGULAR EXPRESSIONS WITH SPIKING NEURA...</td>\n",
       "      <td>None</td>\n",
       "      <td>Non Final Action Mailed</td>\n",
       "      <td>2022-08-10</td>\n",
       "      <td>2020</td>\n",
       "      <td>Pending</td>\n",
       "    </tr>\n",
       "    <tr>\n",
       "      <th>2</th>\n",
       "      <td>16932252</td>\n",
       "      <td>2020-07-17</td>\n",
       "      <td>LOGICAL PARTITIONS VIA HEADER-BASED PARTITION ...</td>\n",
       "      <td>None</td>\n",
       "      <td>Notice of Allowance Mailed -- Application Rece...</td>\n",
       "      <td>2022-08-09</td>\n",
       "      <td>2020</td>\n",
       "      <td>Pending</td>\n",
       "    </tr>\n",
       "    <tr>\n",
       "      <th>3</th>\n",
       "      <td>17038351</td>\n",
       "      <td>2020-09-30</td>\n",
       "      <td>SYSTEM AND METHOD FOR BLOOM FILTERS IN LARGE S...</td>\n",
       "      <td>None</td>\n",
       "      <td>Notice of Allowance Mailed -- Application Rece...</td>\n",
       "      <td>2022-08-08</td>\n",
       "      <td>2020</td>\n",
       "      <td>Pending</td>\n",
       "    </tr>\n",
       "    <tr>\n",
       "      <th>4</th>\n",
       "      <td>16538065</td>\n",
       "      <td>2019-08-12</td>\n",
       "      <td>SYSTEMS AND METHODS FOR ANALYZING THE VALIDITY...</td>\n",
       "      <td>None</td>\n",
       "      <td>Advisory Action Mailed</td>\n",
       "      <td>2022-08-08</td>\n",
       "      <td>2019</td>\n",
       "      <td>Pending</td>\n",
       "    </tr>\n",
       "  </tbody>\n",
       "</table>\n",
       "</div>"
      ],
      "text/plain": [
       "    appl_id app_filing_date  \\\n",
       "0  17077511      2020-10-22   \n",
       "1  16648169      2020-03-17   \n",
       "2  16932252      2020-07-17   \n",
       "3  17038351      2020-09-30   \n",
       "4  16538065      2019-08-12   \n",
       "\n",
       "                                        patent_title patent_number  \\\n",
       "0  HANDLING OUT-OF-ORDER DATA DURING STREAM PROCE...          None   \n",
       "1  PARSING REGULAR EXPRESSIONS WITH SPIKING NEURA...          None   \n",
       "2  LOGICAL PARTITIONS VIA HEADER-BASED PARTITION ...          None   \n",
       "3  SYSTEM AND METHOD FOR BLOOM FILTERS IN LARGE S...          None   \n",
       "4  SYSTEMS AND METHODS FOR ANALYZING THE VALIDITY...          None   \n",
       "\n",
       "                                          app_status app_status_date  year  \\\n",
       "0         Publications -- Issue Fee Payment Verified      2022-08-11  2020   \n",
       "1                            Non Final Action Mailed      2022-08-10  2020   \n",
       "2  Notice of Allowance Mailed -- Application Rece...      2022-08-09  2020   \n",
       "3  Notice of Allowance Mailed -- Application Rece...      2022-08-08  2020   \n",
       "4                             Advisory Action Mailed      2022-08-08  2019   \n",
       "\n",
       "     final  \n",
       "0  Pending  \n",
       "1  Pending  \n",
       "2  Pending  \n",
       "3  Pending  \n",
       "4  Pending  "
      ]
     },
     "execution_count": 7,
     "metadata": {},
     "output_type": "execute_result"
    }
   ],
   "source": [
    "def final_disposition(row):\n",
    "    row['year'] = row['app_filing_date'].year\n",
    "    if row['patent_number']:\n",
    "        row['final'] = 'Patented'\n",
    "    elif 'abandon' in str(row['app_status']).lower():\n",
    "        row['final'] = 'Abandoned'\n",
    "    else:\n",
    "        row['final'] = 'Pending'\n",
    "    return row\n",
    "        \n",
    "final_df = exam_df[~exam_df['appl_id'].str.contains('PCT')].apply(final_disposition, axis=1)\n",
    "\n",
    "final_df.head()"
   ]
  },
  {
   "cell_type": "markdown",
   "metadata": {},
   "source": [
    "Now we need to transform the Pandas dataframe into something we can plot. What we would like to have is a dataframe that looks like this:\n",
    "\n",
    "| Year | Pending | Patented | Expired |\n",
    "|------|---------|----------|---------|\n",
    "| 2015 | 13      | 12       | 1       |\n",
    "| 2016 | 14      | 15       | 15      |\n",
    "\n",
    "To do that, we're going to need to do an aggregation by year"
   ]
  },
  {
   "cell_type": "code",
   "execution_count": 8,
   "metadata": {},
   "outputs": [
    {
     "data": {
      "text/html": [
       "<div>\n",
       "<style scoped>\n",
       "    .dataframe tbody tr th:only-of-type {\n",
       "        vertical-align: middle;\n",
       "    }\n",
       "\n",
       "    .dataframe tbody tr th {\n",
       "        vertical-align: top;\n",
       "    }\n",
       "\n",
       "    .dataframe thead th {\n",
       "        text-align: right;\n",
       "    }\n",
       "</style>\n",
       "<table border=\"1\" class=\"dataframe\">\n",
       "  <thead>\n",
       "    <tr style=\"text-align: right;\">\n",
       "      <th>final</th>\n",
       "      <th>Abandoned</th>\n",
       "      <th>Patented</th>\n",
       "      <th>Pending</th>\n",
       "    </tr>\n",
       "    <tr>\n",
       "      <th>year</th>\n",
       "      <th></th>\n",
       "      <th></th>\n",
       "      <th></th>\n",
       "    </tr>\n",
       "  </thead>\n",
       "  <tbody>\n",
       "    <tr>\n",
       "      <th>2003</th>\n",
       "      <td>NaN</td>\n",
       "      <td>1.0</td>\n",
       "      <td>NaN</td>\n",
       "    </tr>\n",
       "    <tr>\n",
       "      <th>2004</th>\n",
       "      <td>NaN</td>\n",
       "      <td>3.0</td>\n",
       "      <td>NaN</td>\n",
       "    </tr>\n",
       "    <tr>\n",
       "      <th>2005</th>\n",
       "      <td>11.0</td>\n",
       "      <td>20.0</td>\n",
       "      <td>NaN</td>\n",
       "    </tr>\n",
       "    <tr>\n",
       "      <th>2006</th>\n",
       "      <td>17.0</td>\n",
       "      <td>28.0</td>\n",
       "      <td>NaN</td>\n",
       "    </tr>\n",
       "    <tr>\n",
       "      <th>2007</th>\n",
       "      <td>18.0</td>\n",
       "      <td>21.0</td>\n",
       "      <td>NaN</td>\n",
       "    </tr>\n",
       "  </tbody>\n",
       "</table>\n",
       "</div>"
      ],
      "text/plain": [
       "final  Abandoned  Patented  Pending\n",
       "year                               \n",
       "2003         NaN       1.0      NaN\n",
       "2004         NaN       3.0      NaN\n",
       "2005        11.0      20.0      NaN\n",
       "2006        17.0      28.0      NaN\n",
       "2007        18.0      21.0      NaN"
      ]
     },
     "execution_count": 8,
     "metadata": {},
     "output_type": "execute_result"
    }
   ],
   "source": [
    "%matplotlib inline\n",
    "\n",
    "def patented(series):\n",
    "    return len(list(filter(lambda x: x == '')))\n",
    "\n",
    "# Group by year, and by final, then create a count of each\n",
    "result = final_df.groupby(['year', 'final']).agg({'final': 'count'}).rename(columns={'final': 'count'})\n",
    "result = result.reset_index() # Convert indexes into columns\n",
    "result = result.pivot(index='year', columns='final', values='count')\n",
    "\n",
    "result.head()"
   ]
  },
  {
   "cell_type": "markdown",
   "metadata": {},
   "source": [
    "And now we plot it!"
   ]
  },
  {
   "cell_type": "code",
   "execution_count": 9,
   "metadata": {},
   "outputs": [
    {
     "data": {
      "text/plain": [
       "<AxesSubplot:xlabel='year'>"
      ]
     },
     "execution_count": 9,
     "metadata": {},
     "output_type": "execute_result"
    },
    {
     "data": {
      "image/png": "[encoded data removed]",
      "text/plain": [
       "<Figure size 720x360 with 1 Axes>"
      ]
     },
     "metadata": {
      "needs_background": "light"
     },
     "output_type": "display_data"
    }
   ],
   "source": [
    "result.plot.bar(figsize=(10,5))"
   ]
  },
  {
   "cell_type": "markdown",
   "metadata": {},
   "source": [
    "### Average Time to First Action\n",
    "\n",
    "Maybe we'd like to know how long the Examiner takes from docketing until a first Office Action. To do that, we'll use the transaction information stored on each case. For example, from our original app, the transactions look like this:"
   ]
  },
  {
   "cell_type": "code",
   "execution_count": 10,
   "metadata": {},
   "outputs": [
    {
     "data": {
      "text/html": [
       "<div>\n",
       "<style scoped>\n",
       "    .dataframe tbody tr th:only-of-type {\n",
       "        vertical-align: middle;\n",
       "    }\n",
       "\n",
       "    .dataframe tbody tr th {\n",
       "        vertical-align: top;\n",
       "    }\n",
       "\n",
       "    .dataframe thead th {\n",
       "        text-align: right;\n",
       "    }\n",
       "</style>\n",
       "<table border=\"1\" class=\"dataframe\">\n",
       "  <thead>\n",
       "    <tr style=\"text-align: right;\">\n",
       "      <th></th>\n",
       "      <th>code</th>\n",
       "      <th>date</th>\n",
       "      <th>description</th>\n",
       "    </tr>\n",
       "  </thead>\n",
       "  <tbody>\n",
       "    <tr>\n",
       "      <th>0</th>\n",
       "      <td>BRCE</td>\n",
       "      <td>2022-08-10</td>\n",
       "      <td>Workflow - Request for RCE - Begin</td>\n",
       "    </tr>\n",
       "    <tr>\n",
       "      <th>1</th>\n",
       "      <td>EML_NTR</td>\n",
       "      <td>2022-08-10</td>\n",
       "      <td>Email Notification</td>\n",
       "    </tr>\n",
       "    <tr>\n",
       "      <th>2</th>\n",
       "      <td>MCTAV</td>\n",
       "      <td>2022-08-10</td>\n",
       "      <td>Mail Advisory Action (PTOL - 303)</td>\n",
       "    </tr>\n",
       "    <tr>\n",
       "      <th>3</th>\n",
       "      <td>CTAV</td>\n",
       "      <td>2022-08-05</td>\n",
       "      <td>Advisory Action (PTOL-303)</td>\n",
       "    </tr>\n",
       "    <tr>\n",
       "      <th>4</th>\n",
       "      <td>FWDX</td>\n",
       "      <td>2022-08-05</td>\n",
       "      <td>Date Forwarded to Examiner</td>\n",
       "    </tr>\n",
       "  </tbody>\n",
       "</table>\n",
       "</div>"
      ],
      "text/plain": [
       "      code        date                         description\n",
       "0     BRCE  2022-08-10  Workflow - Request for RCE - Begin\n",
       "1  EML_NTR  2022-08-10                  Email Notification\n",
       "2    MCTAV  2022-08-10   Mail Advisory Action (PTOL - 303)\n",
       "3     CTAV  2022-08-05          Advisory Action (PTOL-303)\n",
       "4     FWDX  2022-08-05          Date Forwarded to Examiner"
      ]
     },
     "execution_count": 10,
     "metadata": {},
     "output_type": "execute_result"
    }
   ],
   "source": [
    "app.transactions.to_pandas().head()"
   ]
  },
  {
   "cell_type": "markdown",
   "metadata": {},
   "source": [
    "First, we need to know all the possible transaction codes. To do that, we can take every case in the examiner's stack, and create a set of code-description tuples"
   ]
  },
  {
   "cell_type": "code",
   "execution_count": 11,
   "metadata": {},
   "outputs": [
    {
     "name": "stdout",
     "output_type": "stream",
     "text": [
      "<class 'pandas.core.frame.DataFrame'>\n",
      "Int64Index: 1 entries, 0 to 0\n",
      "Data columns (total 2 columns):\n",
      " #   Column                    Non-Null Count  Dtype \n",
      "---  ------                    --------------  ----- \n",
      " 0   transactions.code         0 non-null      object\n",
      " 1   transactions.description  0 non-null      object\n",
      "dtypes: object(2)\n",
      "memory usage: 24.0+ bytes\n"
     ]
    }
   ],
   "source": [
    "codes_df = (exam\n",
    "            .values(\"transactions\")\n",
    "            .explode(\"transactions\")\n",
    "            .unpack(\"transactions\")\n",
    "            .values(\"transactions.code\", \"transactions.description\")\n",
    "            .to_pandas()\n",
    "            .drop_duplicates()\n",
    "           )\n",
    "codes_df.info()"
   ]
  },
  {
   "cell_type": "code",
   "execution_count": 12,
   "metadata": {},
   "outputs": [
    {
     "data": {
      "text/html": [
       "<div>\n",
       "<style scoped>\n",
       "    .dataframe tbody tr th:only-of-type {\n",
       "        vertical-align: middle;\n",
       "    }\n",
       "\n",
       "    .dataframe tbody tr th {\n",
       "        vertical-align: top;\n",
       "    }\n",
       "\n",
       "    .dataframe thead th {\n",
       "        text-align: right;\n",
       "    }\n",
       "</style>\n",
       "<table border=\"1\" class=\"dataframe\">\n",
       "  <thead>\n",
       "    <tr style=\"text-align: right;\">\n",
       "      <th></th>\n",
       "      <th>transactions.code</th>\n",
       "      <th>transactions.description</th>\n",
       "    </tr>\n",
       "  </thead>\n",
       "  <tbody>\n",
       "    <tr>\n",
       "      <th>0</th>\n",
       "      <td>None</td>\n",
       "      <td>None</td>\n",
       "    </tr>\n",
       "  </tbody>\n",
       "</table>\n",
       "</div>"
      ],
      "text/plain": [
       "  transactions.code transactions.description\n",
       "0              None                     None"
      ]
     },
     "execution_count": 12,
     "metadata": {},
     "output_type": "execute_result"
    }
   ],
   "source": [
    "codes_df.head()"
   ]
  },
  {
   "cell_type": "markdown",
   "metadata": {},
   "source": [
    "Obviously there are entirely too many possible codes / descriptions to easily pick through in a notebook, so we'll export the spreadsheet to excel for review"
   ]
  },
  {
   "cell_type": "code",
   "execution_count": 13,
   "metadata": {},
   "outputs": [],
   "source": [
    "codes_df.to_excel('codes.xlsx')"
   ]
  },
  {
   "cell_type": "markdown",
   "metadata": {},
   "source": [
    "After review, it looks like all the relevant codes for a first action by the examiner begin one one of three prefixes - MFA, CT, or MC. And the case is initially docketed with a code 'DOCK'. So let's use this to calculate a time to first office action for each case. First, we'll make a dataframe that has every transaction, with the associated application id"
   ]
  },
  {
   "cell_type": "code",
   "execution_count": 14,
   "metadata": {},
   "outputs": [
    {
     "ename": "NameError",
     "evalue": "name 'examiners_applications' is not defined",
     "output_type": "error",
     "traceback": [
      "\u001b[0;31m---------------------------------------------------------------------------\u001b[0m",
      "\u001b[0;31mNameError\u001b[0m                                 Traceback (most recent call last)",
      "Input \u001b[0;32mIn [14]\u001b[0m, in \u001b[0;36m<cell line: 1>\u001b[0;34m()\u001b[0m\n\u001b[0;32m----> 1\u001b[0m app_df \u001b[38;5;241m=\u001b[39m pd\u001b[38;5;241m.\u001b[39mDataFrame\u001b[38;5;241m.\u001b[39mfrom_records({\u001b[38;5;124m'\u001b[39m\u001b[38;5;124mappl_id\u001b[39m\u001b[38;5;124m'\u001b[39m: a\u001b[38;5;241m.\u001b[39mappl_id, \u001b[38;5;124m'\u001b[39m\u001b[38;5;124mobj\u001b[39m\u001b[38;5;124m'\u001b[39m: a} \u001b[38;5;28;01mfor\u001b[39;00m a \u001b[38;5;129;01min\u001b[39;00m \u001b[43mexaminers_applications\u001b[49m \u001b[38;5;28;01mif\u001b[39;00m \u001b[38;5;124m'\u001b[39m\u001b[38;5;124mPCT\u001b[39m\u001b[38;5;124m'\u001b[39m \u001b[38;5;129;01mnot\u001b[39;00m \u001b[38;5;129;01min\u001b[39;00m a\u001b[38;5;241m.\u001b[39mappl_id)\n\u001b[1;32m      2\u001b[0m app_df\u001b[38;5;241m.\u001b[39mhead()\n",
      "\u001b[0;31mNameError\u001b[0m: name 'examiners_applications' is not defined"
     ]
    }
   ],
   "source": [
    "app_df = pd.DataFrame.from_records({'appl_id': a.appl_id, 'obj': a} for a in examiners_applications if 'PCT' not in a.appl_id)\n",
    "app_df.head()"
   ]
  },
  {
   "cell_type": "code",
   "execution_count": null,
   "metadata": {},
   "outputs": [],
   "source": [
    "transactions_df = (exam\n",
    "                   .values(\"appl_id\", \"transactions\")\n",
    "                   .explode(\"transactions\")\n",
    "                   .unpack(\"transactions\", prefix=False)\n",
    "                   .to_pandas()\n",
    "                  )\n",
    "transactions_df.head()"
   ]
  },
  {
   "cell_type": "markdown",
   "metadata": {},
   "source": [
    "Now we'll write a function that takes an application, and returns the time to first Examiner's action, measured as days from DOCK to an action by the examiner"
   ]
  },
  {
   "cell_type": "code",
   "execution_count": null,
   "metadata": {},
   "outputs": [],
   "source": [
    "import re\n",
    "from datetime import datetime\n",
    "import warnings\n",
    "\n",
    "first_action_re='^(MFA|CT[^SH]|MC)'\n",
    "\n",
    "def time_to_action(group):\n",
    "    transactions = group.sort_values(\"date\")\n",
    "    docketing_date = transactions.query(\"code == 'DOCK'\").iloc[0].date\n",
    "    try:\n",
    "        first_action = transactions[transactions.code.str.contains(first_action_re)].iloc[0]\n",
    "    except IndexError:\n",
    "        return pd.Series()\n",
    "    row = pd.Series()\n",
    "    row['first_action'] = first_action.description\n",
    "    row['first_action_code'] = first_action.code\n",
    "    row['first_action_date'] = first_action.date\n",
    "    row['docketed_date'] = docketing_date\n",
    "    \n",
    "    row['time_to_action'] = (\n",
    "        first_action.date\n",
    "        - docketing_date\n",
    "    ).days\n",
    "    return row\n",
    "\n",
    "\n",
    "with warnings.catch_warnings():\n",
    "    warnings.simplefilter(\"ignore\")\n",
    "    result_df = transactions_df.groupby(\"appl_id\").apply(time_to_action).unstack()\n",
    "    \n",
    "result_df.head(20)"
   ]
  },
  {
   "cell_type": "markdown",
   "metadata": {},
   "source": [
    "And now we can look at the aggregate stats for time to first office action:"
   ]
  },
  {
   "cell_type": "code",
   "execution_count": null,
   "metadata": {},
   "outputs": [],
   "source": [
    "result_df.time_to_action.describe()"
   ]
  },
  {
   "cell_type": "markdown",
   "metadata": {},
   "source": [
    "We can also look at the average time by what the response type is:"
   ]
  },
  {
   "cell_type": "code",
   "execution_count": null,
   "metadata": {},
   "outputs": [],
   "source": [
    "result_df.groupby('first_action').describe()"
   ]
  }
 ],
 "metadata": {
  "kernelspec": {
   "display_name": "Python 3 (ipykernel)",
   "language": "python",
   "name": "python3"
  },
  "language_info": {
   "codemirror_mode": {
    "name": "ipython",
    "version": 3
   },
   "file_extension": ".py",
   "mimetype": "text/x-python",
   "name": "python",
   "nbconvert_exporter": "python",
   "pygments_lexer": "ipython3",
   "version": "3.9.12"
  }
 },
 "nbformat": 4,
 "nbformat_minor": 4
}
