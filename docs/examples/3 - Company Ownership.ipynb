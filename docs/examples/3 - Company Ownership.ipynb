{
 "cells": [
  {
   "cell_type": "markdown",
   "metadata": {},
   "source": [
    "## Collect a Company's Patent Porfolio\n",
    "\n",
    "This notebook will attempt to amass, for any given company, their entire worldwide patent porfolio.\\*\n",
    "\n",
    "### U.S. Portfolio\n",
    "\n",
    "Collecting their U.S. portfolio will proceed in a few steps:\n",
    "\n",
    "1. Collect all applications ever assigned to the company\n",
    "\n",
    "    a. Those applications naming the company as an applicant\n",
    "    b. Those assigned to the company via an assignment\n",
    "    \n",
    "2. Prune all applications assigned out of the company, as recorded in USPTO assignment records\n",
    "\n",
    "\\*NOTE: I say \"attempt\" because the notebook relies on the USPTO system, and the International Patent Document (INPADOC) service. Not all foreign jurisdictions participate in INPADOC, and not all INPADOC member states are as good at contributing to the system as we would like. So coverage is good, but not perfect."
   ]
  },
  {
   "cell_type": "markdown",
   "metadata": {},
   "source": [
    "First, we do our standard imports, and grab the USApplication and Assignment objects from patent_client"
   ]
  },
  {
   "cell_type": "code",
   "execution_count": 1,
   "metadata": {},
   "outputs": [],
   "source": [
    "import pandas as pd\n",
    "from patent_client import USApplication, Assignment\n",
    "\n",
    "company_name = 'Tesla Motors'"
   ]
  },
  {
   "cell_type": "markdown",
   "metadata": {},
   "source": [
    "### Step 1.a: Collect all applications naming the company as applicant"
   ]
  },
  {
   "cell_type": "code",
   "execution_count": 3,
   "metadata": {},
   "outputs": [],
   "source": [
    "applicant_apps = USApplication.objects.filter(first_named_applicant=company_name).values_list('appl_id', flat=True).to_list()"
   ]
  },
  {
   "cell_type": "markdown",
   "metadata": {},
   "source": [
    "### Step 1.b: Collect all applications assigned to the company"
   ]
  },
  {
   "cell_type": "code",
   "execution_count": 5,
   "metadata": {},
   "outputs": [],
   "source": [
    "# The assigned apps is either a single value, or a list of values if more than one property was assigned\n",
    "assigned_apps = Assignment.objects.filter(assignee=company_name).explode('properties').values_list('appl_id', flat=True).to_list()"
   ]
  },
  {
   "cell_type": "markdown",
   "metadata": {},
   "source": [
    "And now we combine the two"
   ]
  },
  {
   "cell_type": "code",
   "execution_count": 6,
   "metadata": {},
   "outputs": [
    {
     "name": "stdout",
     "output_type": "stream",
     "text": [
      "Total U.S. Applications Ever Owned by Tesla Motors: 242\n"
     ]
    }
   ],
   "source": [
    "all_apps = set(list(applicant_apps + assigned_apps))\n",
    "\n",
    "print(f'Total U.S. Applications Ever Owned by {company_name}: {len(all_apps)}')"
   ]
  },
  {
   "cell_type": "markdown",
   "metadata": {},
   "source": [
    "### Step 2: Collect all applications ever assigned out of the company"
   ]
  },
  {
   "cell_type": "code",
   "execution_count": 7,
   "metadata": {},
   "outputs": [
    {
     "name": "stdout",
     "output_type": "stream",
     "text": [
      "U.S. Applications assigned out of Tesla Motors: 14\n"
     ]
    }
   ],
   "source": [
    "assigned_out_apps = set(Assignment.objects.filter(assignor=company_name).to_pandas()\n",
    "                   .query('conveyance_text == \"ASSIGNMENT OF ASSIGNORS INTEREST\"')\n",
    "                   .properties.explode().apply(lambda x: x.appl_id).to_list())\n",
    "print(f'U.S. Applications assigned out of {company_name}: {len(assigned_out_apps)}')"
   ]
  },
  {
   "cell_type": "markdown",
   "metadata": {},
   "source": [
    "### Step 3: Subtract one set from the other"
   ]
  },
  {
   "cell_type": "code",
   "execution_count": 11,
   "metadata": {},
   "outputs": [
    {
     "data": {
      "text/plain": [
       "232"
      ]
     },
     "execution_count": 11,
     "metadata": {},
     "output_type": "execute_result"
    }
   ],
   "source": [
    "owned_apps = list(set(all_apps) - set(assigned_out_apps))\n",
    "len(owned_apps)\n"
   ]
  },
  {
   "cell_type": "markdown",
   "metadata": {},
   "source": [
    "### Step 4: Generate status report"
   ]
  },
  {
   "cell_type": "code",
   "execution_count": 12,
   "metadata": {},
   "outputs": [
    {
     "data": {
      "text/html": [
       "<div>\n",
       "<style scoped>\n",
       "    .dataframe tbody tr th:only-of-type {\n",
       "        vertical-align: middle;\n",
       "    }\n",
       "\n",
       "    .dataframe tbody tr th {\n",
       "        vertical-align: top;\n",
       "    }\n",
       "\n",
       "    .dataframe thead th {\n",
       "        text-align: right;\n",
       "    }\n",
       "</style>\n",
       "<table border=\"1\" class=\"dataframe\">\n",
       "  <thead>\n",
       "    <tr style=\"text-align: right;\">\n",
       "      <th></th>\n",
       "      <th>appl_id</th>\n",
       "      <th>app_filing_date</th>\n",
       "      <th>app_early_pub_number</th>\n",
       "      <th>app_early_pub_date</th>\n",
       "      <th>patent_number</th>\n",
       "      <th>patent_issue_date</th>\n",
       "      <th>patent_title</th>\n",
       "      <th>inventors__0__name</th>\n",
       "      <th>applicants__0__name</th>\n",
       "      <th>app_status</th>\n",
       "      <th>app_status_date</th>\n",
       "    </tr>\n",
       "  </thead>\n",
       "  <tbody>\n",
       "    <tr>\n",
       "      <th>0</th>\n",
       "      <td>15334090</td>\n",
       "      <td>2016-10-25</td>\n",
       "      <td>US20180114740A1</td>\n",
       "      <td>2018-04-26</td>\n",
       "      <td>None</td>\n",
       "      <td>None</td>\n",
       "      <td>INVERTER</td>\n",
       "      <td>None</td>\n",
       "      <td>None</td>\n",
       "      <td>Notice of Allowance Mailed -- Application Rece...</td>\n",
       "      <td>2022-06-09</td>\n",
       "    </tr>\n",
       "    <tr>\n",
       "      <th>1</th>\n",
       "      <td>14070214</td>\n",
       "      <td>2013-11-01</td>\n",
       "      <td>US20150123511A1</td>\n",
       "      <td>2015-05-07</td>\n",
       "      <td>10938280</td>\n",
       "      <td>2021-03-02</td>\n",
       "      <td>Flux Shield for Electric Motor</td>\n",
       "      <td>None</td>\n",
       "      <td>None</td>\n",
       "      <td>Patented Case</td>\n",
       "      <td>2021-02-10</td>\n",
       "    </tr>\n",
       "    <tr>\n",
       "      <th>2</th>\n",
       "      <td>15381259</td>\n",
       "      <td>2016-12-16</td>\n",
       "      <td>US20170096073A1</td>\n",
       "      <td>2017-04-06</td>\n",
       "      <td>None</td>\n",
       "      <td>None</td>\n",
       "      <td>CHARGING STATION PROVIDING THERMAL CONDITIONIN...</td>\n",
       "      <td>None</td>\n",
       "      <td>None</td>\n",
       "      <td>Abandoned -- After Examiner's Answer or Board ...</td>\n",
       "      <td>2021-01-21</td>\n",
       "    </tr>\n",
       "    <tr>\n",
       "      <th>3</th>\n",
       "      <td>14706837</td>\n",
       "      <td>2015-05-18</td>\n",
       "      <td>US20150244047A1</td>\n",
       "      <td>2015-08-27</td>\n",
       "      <td>None</td>\n",
       "      <td>None</td>\n",
       "      <td>Battery mounting and cooling system</td>\n",
       "      <td>None</td>\n",
       "      <td>None</td>\n",
       "      <td>Abandoned -- Failure to Respond to an Office A...</td>\n",
       "      <td>2020-06-19</td>\n",
       "    </tr>\n",
       "    <tr>\n",
       "      <th>4</th>\n",
       "      <td>15382451</td>\n",
       "      <td>2016-12-16</td>\n",
       "      <td>US20170184345A1</td>\n",
       "      <td>2017-06-29</td>\n",
       "      <td>10641552</td>\n",
       "      <td>2020-05-05</td>\n",
       "      <td>HEAT-RECOVERING TEMPERATURE-GRADIENT BASED OVE...</td>\n",
       "      <td>None</td>\n",
       "      <td>None</td>\n",
       "      <td>Patented Case</td>\n",
       "      <td>2020-04-15</td>\n",
       "    </tr>\n",
       "  </tbody>\n",
       "</table>\n",
       "</div>"
      ],
      "text/plain": [
       "    appl_id app_filing_date app_early_pub_number app_early_pub_date  \\\n",
       "0  15334090      2016-10-25      US20180114740A1         2018-04-26   \n",
       "1  14070214      2013-11-01      US20150123511A1         2015-05-07   \n",
       "2  15381259      2016-12-16      US20170096073A1         2017-04-06   \n",
       "3  14706837      2015-05-18      US20150244047A1         2015-08-27   \n",
       "4  15382451      2016-12-16      US20170184345A1         2017-06-29   \n",
       "\n",
       "  patent_number patent_issue_date  \\\n",
       "0          None              None   \n",
       "1      10938280        2021-03-02   \n",
       "2          None              None   \n",
       "3          None              None   \n",
       "4      10641552        2020-05-05   \n",
       "\n",
       "                                        patent_title inventors__0__name  \\\n",
       "0                                           INVERTER               None   \n",
       "1                     Flux Shield for Electric Motor               None   \n",
       "2  CHARGING STATION PROVIDING THERMAL CONDITIONIN...               None   \n",
       "3                Battery mounting and cooling system               None   \n",
       "4  HEAT-RECOVERING TEMPERATURE-GRADIENT BASED OVE...               None   \n",
       "\n",
       "  applicants__0__name                                         app_status  \\\n",
       "0                None  Notice of Allowance Mailed -- Application Rece...   \n",
       "1                None                                      Patented Case   \n",
       "2                None  Abandoned -- After Examiner's Answer or Board ...   \n",
       "3                None  Abandoned -- Failure to Respond to an Office A...   \n",
       "4                None                                      Patented Case   \n",
       "\n",
       "  app_status_date  \n",
       "0      2022-06-09  \n",
       "1      2021-02-10  \n",
       "2      2021-01-21  \n",
       "3      2020-06-19  \n",
       "4      2020-04-15  "
      ]
     },
     "execution_count": 12,
     "metadata": {},
     "output_type": "execute_result"
    }
   ],
   "source": [
    "import pandas as pd\n",
    "from patent_client.parser import parse\n",
    "\n",
    "us_df = USApplication.objects.filter(appl_id=owned_apps).values(\n",
    "    'appl_id', \n",
    "    'app_filing_date', \n",
    "    'app_early_pub_number',\n",
    "    'app_early_pub_date',\n",
    "    'patent_number',\n",
    "    'patent_issue_date',\n",
    "    'patent_title',\n",
    "    'inventors__0__name',\n",
    "    'applicants__0__name',\n",
    "    'app_status',\n",
    "    'app_status_date'\n",
    ").to_pandas()\n",
    "\n",
    "us_df.head()"
   ]
  },
  {
   "cell_type": "markdown",
   "metadata": {},
   "source": [
    "### Foreign Patent Portfolio\n",
    "\n",
    "Now we will fetch the company's wordwide portfolio, as it appears in the Inpadoc system maintained by the EPO"
   ]
  },
  {
   "cell_type": "code",
   "execution_count": 15,
   "metadata": {},
   "outputs": [],
   "source": [
    "from patent_client import Inpadoc\n",
    "\n",
    "foreign = Inpadoc.objects.filter(applicant=company_name)"
   ]
  },
  {
   "cell_type": "markdown",
   "metadata": {},
   "source": [
    "And now, a status report:"
   ]
  },
  {
   "cell_type": "code",
   "execution_count": 16,
   "metadata": {},
   "outputs": [
    {
     "data": {
      "text/html": [
       "<div>\n",
       "<style scoped>\n",
       "    .dataframe tbody tr th:only-of-type {\n",
       "        vertical-align: middle;\n",
       "    }\n",
       "\n",
       "    .dataframe tbody tr th {\n",
       "        vertical-align: top;\n",
       "    }\n",
       "\n",
       "    .dataframe thead th {\n",
       "        text-align: right;\n",
       "    }\n",
       "</style>\n",
       "<table border=\"1\" class=\"dataframe\">\n",
       "  <thead>\n",
       "    <tr style=\"text-align: right;\">\n",
       "      <th></th>\n",
       "      <th>country</th>\n",
       "      <th>appl_id</th>\n",
       "      <th>app_filing_date</th>\n",
       "      <th>pub_number</th>\n",
       "      <th>pub_date</th>\n",
       "      <th>title</th>\n",
       "      <th>applicant</th>\n",
       "      <th>first_named_inventor</th>\n",
       "    </tr>\n",
       "  </thead>\n",
       "  <tbody>\n",
       "    <tr>\n",
       "      <th>1</th>\n",
       "      <td>KR</td>\n",
       "      <td>None</td>\n",
       "      <td>None</td>\n",
       "      <td>None</td>\n",
       "      <td>None</td>\n",
       "      <td>None</td>\n",
       "      <td>None</td>\n",
       "      <td>None</td>\n",
       "    </tr>\n",
       "    <tr>\n",
       "      <th>2</th>\n",
       "      <td>KR</td>\n",
       "      <td>None</td>\n",
       "      <td>None</td>\n",
       "      <td>None</td>\n",
       "      <td>None</td>\n",
       "      <td>None</td>\n",
       "      <td>None</td>\n",
       "      <td>None</td>\n",
       "    </tr>\n",
       "    <tr>\n",
       "      <th>6</th>\n",
       "      <td>CN</td>\n",
       "      <td>None</td>\n",
       "      <td>None</td>\n",
       "      <td>None</td>\n",
       "      <td>None</td>\n",
       "      <td>NOVEL BATTERY SYSTEMS BASED ON LITHIUM DIFLUOR...</td>\n",
       "      <td>None</td>\n",
       "      <td>None</td>\n",
       "    </tr>\n",
       "    <tr>\n",
       "      <th>7</th>\n",
       "      <td>KR</td>\n",
       "      <td>None</td>\n",
       "      <td>None</td>\n",
       "      <td>None</td>\n",
       "      <td>None</td>\n",
       "      <td>None</td>\n",
       "      <td>None</td>\n",
       "      <td>None</td>\n",
       "    </tr>\n",
       "    <tr>\n",
       "      <th>9</th>\n",
       "      <td>CA</td>\n",
       "      <td>None</td>\n",
       "      <td>None</td>\n",
       "      <td>None</td>\n",
       "      <td>None</td>\n",
       "      <td>NOVEL BATTERY SYSTEMS BASED ON LITHIUM DIFLUOR...</td>\n",
       "      <td>None</td>\n",
       "      <td>None</td>\n",
       "    </tr>\n",
       "    <tr>\n",
       "      <th>10</th>\n",
       "      <td>WO</td>\n",
       "      <td>None</td>\n",
       "      <td>None</td>\n",
       "      <td>None</td>\n",
       "      <td>None</td>\n",
       "      <td>ELECTROLYTES WITH LITHIUM DIFLUORO(OXALATO)BOR...</td>\n",
       "      <td>None</td>\n",
       "      <td>None</td>\n",
       "    </tr>\n",
       "    <tr>\n",
       "      <th>11</th>\n",
       "      <td>CA</td>\n",
       "      <td>None</td>\n",
       "      <td>None</td>\n",
       "      <td>None</td>\n",
       "      <td>None</td>\n",
       "      <td>DIOXAZOLONES AND NITRILE SULFITES AS ELECTROLY...</td>\n",
       "      <td>None</td>\n",
       "      <td>None</td>\n",
       "    </tr>\n",
       "    <tr>\n",
       "      <th>12</th>\n",
       "      <td>WO</td>\n",
       "      <td>None</td>\n",
       "      <td>None</td>\n",
       "      <td>None</td>\n",
       "      <td>None</td>\n",
       "      <td>DIOXAZOLONES AND NITRILE SULFITES AS ELECTROLY...</td>\n",
       "      <td>None</td>\n",
       "      <td>None</td>\n",
       "    </tr>\n",
       "    <tr>\n",
       "      <th>14</th>\n",
       "      <td>WO</td>\n",
       "      <td>None</td>\n",
       "      <td>None</td>\n",
       "      <td>None</td>\n",
       "      <td>None</td>\n",
       "      <td>METHOD FOR SYNTHESIZING NICKEL-COBALT-ALUMINUM...</td>\n",
       "      <td>None</td>\n",
       "      <td>None</td>\n",
       "    </tr>\n",
       "  </tbody>\n",
       "</table>\n",
       "</div>"
      ],
      "text/plain": [
       "   country appl_id app_filing_date pub_number pub_date  \\\n",
       "1       KR    None            None       None     None   \n",
       "2       KR    None            None       None     None   \n",
       "6       CN    None            None       None     None   \n",
       "7       KR    None            None       None     None   \n",
       "9       CA    None            None       None     None   \n",
       "10      WO    None            None       None     None   \n",
       "11      CA    None            None       None     None   \n",
       "12      WO    None            None       None     None   \n",
       "14      WO    None            None       None     None   \n",
       "\n",
       "                                                title applicant  \\\n",
       "1                                                None      None   \n",
       "2                                                None      None   \n",
       "6   NOVEL BATTERY SYSTEMS BASED ON LITHIUM DIFLUOR...      None   \n",
       "7                                                None      None   \n",
       "9   NOVEL BATTERY SYSTEMS BASED ON LITHIUM DIFLUOR...      None   \n",
       "10  ELECTROLYTES WITH LITHIUM DIFLUORO(OXALATO)BOR...      None   \n",
       "11  DIOXAZOLONES AND NITRILE SULFITES AS ELECTROLY...      None   \n",
       "12  DIOXAZOLONES AND NITRILE SULFITES AS ELECTROLY...      None   \n",
       "14  METHOD FOR SYNTHESIZING NICKEL-COBALT-ALUMINUM...      None   \n",
       "\n",
       "   first_named_inventor  \n",
       "1                  None  \n",
       "2                  None  \n",
       "6                  None  \n",
       "7                  None  \n",
       "9                  None  \n",
       "10                 None  \n",
       "11                 None  \n",
       "12                 None  \n",
       "14                 None  "
      ]
     },
     "execution_count": 16,
     "metadata": {},
     "output_type": "execute_result"
    }
   ],
   "source": [
    "foreign_df = foreign[:15].values(\n",
    "    'country', \n",
    "    appl_id='biblio.applications.0.number', \n",
    "    app_filing_date='biblio.applications.0.date', \n",
    "    pub_number='biblio.publications.0.number', \n",
    "    pub_date='biblio.publications.0.date', \n",
    "    title='biblio.title', \n",
    "    applicant='biblio.applicants.0', \n",
    "    first_named_inventor='biblio.inventors.0').to_pandas()\n",
    "foreign_df = foreign_df[foreign_df['country'] != 'US']\n",
    "foreign_df"
   ]
  },
  {
   "cell_type": "markdown",
   "metadata": {},
   "source": [
    "And now we will take our results, and write to an excel file"
   ]
  },
  {
   "cell_type": "code",
   "execution_count": 17,
   "metadata": {},
   "outputs": [],
   "source": [
    "writer = pd.ExcelWriter(f'{company_name}_portfolio.xlsx')\n",
    "us_df.to_excel(writer, sheet_name='US Portfolio')\n",
    "foreign_df.to_excel(writer, sheet_name='Foreign Portfolio')\n",
    "writer.save()"
   ]
  },
  {
   "cell_type": "code",
   "execution_count": null,
   "metadata": {},
   "outputs": [],
   "source": []
  }
 ],
 "metadata": {
  "kernelspec": {
   "display_name": "Python 3 (ipykernel)",
   "language": "python",
   "name": "python3"
  },
  "language_info": {
   "codemirror_mode": {
    "name": "ipython",
    "version": 3
   },
   "file_extension": ".py",
   "mimetype": "text/x-python",
   "name": "python",
   "nbconvert_exporter": "python",
   "pygments_lexer": "ipython3",
   "version": "3.9.12"
  }
 },
 "nbformat": 4,
 "nbformat_minor": 4
}
